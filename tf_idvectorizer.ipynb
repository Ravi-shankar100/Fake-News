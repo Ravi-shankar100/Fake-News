{
  "nbformat": 4,
  "nbformat_minor": 0,
  "metadata": {
    "colab": {
      "name": "tf-idvectorizer.ipynb",
      "provenance": [],
      "collapsed_sections": [],
      "authorship_tag": "ABX9TyMk0j/feZ5jGkgmPTyRkQOH",
      "include_colab_link": true
    },
    "kernelspec": {
      "name": "python3",
      "display_name": "Python 3"
    }
  },
  "cells": [
    {
      "cell_type": "markdown",
      "metadata": {
        "id": "view-in-github",
        "colab_type": "text"
      },
      "source": [
        "<a href=\"https://colab.research.google.com/github/Ravi-shankar100/Fake-News/blob/master/tf_idvectorizer.ipynb\" target=\"_parent\"><img src=\"https://colab.research.google.com/assets/colab-badge.svg\" alt=\"Open In Colab\"/></a>"
      ]
    },
    {
      "cell_type": "code",
      "metadata": {
        "id": "kdzR0jlul8AG",
        "colab_type": "code",
        "colab": {}
      },
      "source": [
        "import pandas as pd\n",
        "import matplotlib.pyplot as plt"
      ],
      "execution_count": null,
      "outputs": []
    },
    {
      "cell_type": "code",
      "metadata": {
        "id": "o6KRrXdDmEWP",
        "colab_type": "code",
        "colab": {}
      },
      "source": [
        "df=pd.read_csv('train.csv')"
      ],
      "execution_count": null,
      "outputs": []
    },
    {
      "cell_type": "code",
      "metadata": {
        "id": "PmpFFLHKnooW",
        "colab_type": "code",
        "colab": {
          "base_uri": "https://localhost:8080/",
          "height": 221
        },
        "outputId": "238eae4d-89dc-445c-c236-19d75c4fd523"
      },
      "source": [
        "df.head()"
      ],
      "execution_count": null,
      "outputs": [
        {
          "output_type": "execute_result",
          "data": {
            "text/html": [
              "<div>\n",
              "<style scoped>\n",
              "    .dataframe tbody tr th:only-of-type {\n",
              "        vertical-align: middle;\n",
              "    }\n",
              "\n",
              "    .dataframe tbody tr th {\n",
              "        vertical-align: top;\n",
              "    }\n",
              "\n",
              "    .dataframe thead th {\n",
              "        text-align: right;\n",
              "    }\n",
              "</style>\n",
              "<table border=\"1\" class=\"dataframe\">\n",
              "  <thead>\n",
              "    <tr style=\"text-align: right;\">\n",
              "      <th></th>\n",
              "      <th>id</th>\n",
              "      <th>title</th>\n",
              "      <th>author</th>\n",
              "      <th>text</th>\n",
              "      <th>label</th>\n",
              "    </tr>\n",
              "  </thead>\n",
              "  <tbody>\n",
              "    <tr>\n",
              "      <th>0</th>\n",
              "      <td>0</td>\n",
              "      <td>House Dem Aide: We Didn’t Even See Comey’s Let...</td>\n",
              "      <td>Darrell Lucus</td>\n",
              "      <td>House Dem Aide: We Didn’t Even See Comey’s Let...</td>\n",
              "      <td>1</td>\n",
              "    </tr>\n",
              "    <tr>\n",
              "      <th>1</th>\n",
              "      <td>1</td>\n",
              "      <td>FLYNN: Hillary Clinton, Big Woman on Campus - ...</td>\n",
              "      <td>Daniel J. Flynn</td>\n",
              "      <td>Ever get the feeling your life circles the rou...</td>\n",
              "      <td>0</td>\n",
              "    </tr>\n",
              "    <tr>\n",
              "      <th>2</th>\n",
              "      <td>2</td>\n",
              "      <td>Why the Truth Might Get You Fired</td>\n",
              "      <td>Consortiumnews.com</td>\n",
              "      <td>Why the Truth Might Get You Fired October 29, ...</td>\n",
              "      <td>1</td>\n",
              "    </tr>\n",
              "    <tr>\n",
              "      <th>3</th>\n",
              "      <td>3</td>\n",
              "      <td>15 Civilians Killed In Single US Airstrike Hav...</td>\n",
              "      <td>Jessica Purkiss</td>\n",
              "      <td>Videos 15 Civilians Killed In Single US Airstr...</td>\n",
              "      <td>1</td>\n",
              "    </tr>\n",
              "    <tr>\n",
              "      <th>4</th>\n",
              "      <td>4</td>\n",
              "      <td>Iranian woman jailed for fictional unpublished...</td>\n",
              "      <td>Howard Portnoy</td>\n",
              "      <td>Print \\nAn Iranian woman has been sentenced to...</td>\n",
              "      <td>1</td>\n",
              "    </tr>\n",
              "  </tbody>\n",
              "</table>\n",
              "</div>"
            ],
            "text/plain": [
              "   id  ... label\n",
              "0   0  ...     1\n",
              "1   1  ...     0\n",
              "2   2  ...     1\n",
              "3   3  ...     1\n",
              "4   4  ...     1\n",
              "\n",
              "[5 rows x 5 columns]"
            ]
          },
          "metadata": {
            "tags": []
          },
          "execution_count": 4
        }
      ]
    },
    {
      "cell_type": "code",
      "metadata": {
        "id": "Y-u5CDGlnudF",
        "colab_type": "code",
        "colab": {}
      },
      "source": [
        "#Getting the independent features\n",
        "X = df.iloc[:, : -1]"
      ],
      "execution_count": null,
      "outputs": []
    },
    {
      "cell_type": "code",
      "metadata": {
        "id": "JAm1QhZ0n3Ia",
        "colab_type": "code",
        "colab": {
          "base_uri": "https://localhost:8080/",
          "height": 204
        },
        "outputId": "3fe37e9f-8120-497b-895f-d92902a756c4"
      },
      "source": [
        "X.head()"
      ],
      "execution_count": null,
      "outputs": [
        {
          "output_type": "execute_result",
          "data": {
            "text/html": [
              "<div>\n",
              "<style scoped>\n",
              "    .dataframe tbody tr th:only-of-type {\n",
              "        vertical-align: middle;\n",
              "    }\n",
              "\n",
              "    .dataframe tbody tr th {\n",
              "        vertical-align: top;\n",
              "    }\n",
              "\n",
              "    .dataframe thead th {\n",
              "        text-align: right;\n",
              "    }\n",
              "</style>\n",
              "<table border=\"1\" class=\"dataframe\">\n",
              "  <thead>\n",
              "    <tr style=\"text-align: right;\">\n",
              "      <th></th>\n",
              "      <th>id</th>\n",
              "      <th>title</th>\n",
              "      <th>author</th>\n",
              "      <th>text</th>\n",
              "    </tr>\n",
              "  </thead>\n",
              "  <tbody>\n",
              "    <tr>\n",
              "      <th>0</th>\n",
              "      <td>0</td>\n",
              "      <td>House Dem Aide: We Didn’t Even See Comey’s Let...</td>\n",
              "      <td>Darrell Lucus</td>\n",
              "      <td>House Dem Aide: We Didn’t Even See Comey’s Let...</td>\n",
              "    </tr>\n",
              "    <tr>\n",
              "      <th>1</th>\n",
              "      <td>1</td>\n",
              "      <td>FLYNN: Hillary Clinton, Big Woman on Campus - ...</td>\n",
              "      <td>Daniel J. Flynn</td>\n",
              "      <td>Ever get the feeling your life circles the rou...</td>\n",
              "    </tr>\n",
              "    <tr>\n",
              "      <th>2</th>\n",
              "      <td>2</td>\n",
              "      <td>Why the Truth Might Get You Fired</td>\n",
              "      <td>Consortiumnews.com</td>\n",
              "      <td>Why the Truth Might Get You Fired October 29, ...</td>\n",
              "    </tr>\n",
              "    <tr>\n",
              "      <th>3</th>\n",
              "      <td>3</td>\n",
              "      <td>15 Civilians Killed In Single US Airstrike Hav...</td>\n",
              "      <td>Jessica Purkiss</td>\n",
              "      <td>Videos 15 Civilians Killed In Single US Airstr...</td>\n",
              "    </tr>\n",
              "    <tr>\n",
              "      <th>4</th>\n",
              "      <td>4</td>\n",
              "      <td>Iranian woman jailed for fictional unpublished...</td>\n",
              "      <td>Howard Portnoy</td>\n",
              "      <td>Print \\nAn Iranian woman has been sentenced to...</td>\n",
              "    </tr>\n",
              "  </tbody>\n",
              "</table>\n",
              "</div>"
            ],
            "text/plain": [
              "   id  ...                                               text\n",
              "0   0  ...  House Dem Aide: We Didn’t Even See Comey’s Let...\n",
              "1   1  ...  Ever get the feeling your life circles the rou...\n",
              "2   2  ...  Why the Truth Might Get You Fired October 29, ...\n",
              "3   3  ...  Videos 15 Civilians Killed In Single US Airstr...\n",
              "4   4  ...  Print \\nAn Iranian woman has been sentenced to...\n",
              "\n",
              "[5 rows x 4 columns]"
            ]
          },
          "metadata": {
            "tags": []
          },
          "execution_count": 8
        }
      ]
    },
    {
      "cell_type": "code",
      "metadata": {
        "id": "5Nt0yF7Sn5bY",
        "colab_type": "code",
        "colab": {}
      },
      "source": [
        "#Getting the dependent features\n",
        "y = df.iloc[:, -1]"
      ],
      "execution_count": null,
      "outputs": []
    },
    {
      "cell_type": "code",
      "metadata": {
        "id": "FgbiA-iyofyB",
        "colab_type": "code",
        "colab": {
          "base_uri": "https://localhost:8080/",
          "height": 119
        },
        "outputId": "412a7e5a-4105-4e15-a45a-46ec45ae39b6"
      },
      "source": [
        "y.head()"
      ],
      "execution_count": null,
      "outputs": [
        {
          "output_type": "execute_result",
          "data": {
            "text/plain": [
              "0    1\n",
              "1    0\n",
              "2    1\n",
              "3    1\n",
              "4    1\n",
              "Name: label, dtype: int64"
            ]
          },
          "metadata": {
            "tags": []
          },
          "execution_count": 14
        }
      ]
    },
    {
      "cell_type": "code",
      "metadata": {
        "id": "exIEQxk5oryb",
        "colab_type": "code",
        "colab": {
          "base_uri": "https://localhost:8080/",
          "height": 34
        },
        "outputId": "93a2dfe7-64f6-438d-cf72-8e827cc0ea32"
      },
      "source": [
        "df.shape"
      ],
      "execution_count": null,
      "outputs": [
        {
          "output_type": "execute_result",
          "data": {
            "text/plain": [
              "(20800, 5)"
            ]
          },
          "metadata": {
            "tags": []
          },
          "execution_count": 13
        }
      ]
    },
    {
      "cell_type": "code",
      "metadata": {
        "id": "-KRnHPpYot0f",
        "colab_type": "code",
        "colab": {}
      },
      "source": [
        "#Droping the nan values\n",
        "df=df.dropna()"
      ],
      "execution_count": null,
      "outputs": []
    },
    {
      "cell_type": "code",
      "metadata": {
        "id": "9_jiiELEot5E",
        "colab_type": "code",
        "colab": {
          "base_uri": "https://localhost:8080/",
          "height": 512
        },
        "outputId": "c74dbc1b-886c-4e57-b01f-af4ffcffccee"
      },
      "source": [
        "df.head(10)"
      ],
      "execution_count": null,
      "outputs": [
        {
          "output_type": "execute_result",
          "data": {
            "text/html": [
              "<div>\n",
              "<style scoped>\n",
              "    .dataframe tbody tr th:only-of-type {\n",
              "        vertical-align: middle;\n",
              "    }\n",
              "\n",
              "    .dataframe tbody tr th {\n",
              "        vertical-align: top;\n",
              "    }\n",
              "\n",
              "    .dataframe thead th {\n",
              "        text-align: right;\n",
              "    }\n",
              "</style>\n",
              "<table border=\"1\" class=\"dataframe\">\n",
              "  <thead>\n",
              "    <tr style=\"text-align: right;\">\n",
              "      <th></th>\n",
              "      <th>id</th>\n",
              "      <th>title</th>\n",
              "      <th>author</th>\n",
              "      <th>text</th>\n",
              "      <th>label</th>\n",
              "    </tr>\n",
              "  </thead>\n",
              "  <tbody>\n",
              "    <tr>\n",
              "      <th>0</th>\n",
              "      <td>0</td>\n",
              "      <td>House Dem Aide: We Didn’t Even See Comey’s Let...</td>\n",
              "      <td>Darrell Lucus</td>\n",
              "      <td>House Dem Aide: We Didn’t Even See Comey’s Let...</td>\n",
              "      <td>1</td>\n",
              "    </tr>\n",
              "    <tr>\n",
              "      <th>1</th>\n",
              "      <td>1</td>\n",
              "      <td>FLYNN: Hillary Clinton, Big Woman on Campus - ...</td>\n",
              "      <td>Daniel J. Flynn</td>\n",
              "      <td>Ever get the feeling your life circles the rou...</td>\n",
              "      <td>0</td>\n",
              "    </tr>\n",
              "    <tr>\n",
              "      <th>2</th>\n",
              "      <td>2</td>\n",
              "      <td>Why the Truth Might Get You Fired</td>\n",
              "      <td>Consortiumnews.com</td>\n",
              "      <td>Why the Truth Might Get You Fired October 29, ...</td>\n",
              "      <td>1</td>\n",
              "    </tr>\n",
              "    <tr>\n",
              "      <th>3</th>\n",
              "      <td>3</td>\n",
              "      <td>15 Civilians Killed In Single US Airstrike Hav...</td>\n",
              "      <td>Jessica Purkiss</td>\n",
              "      <td>Videos 15 Civilians Killed In Single US Airstr...</td>\n",
              "      <td>1</td>\n",
              "    </tr>\n",
              "    <tr>\n",
              "      <th>4</th>\n",
              "      <td>4</td>\n",
              "      <td>Iranian woman jailed for fictional unpublished...</td>\n",
              "      <td>Howard Portnoy</td>\n",
              "      <td>Print \\nAn Iranian woman has been sentenced to...</td>\n",
              "      <td>1</td>\n",
              "    </tr>\n",
              "    <tr>\n",
              "      <th>5</th>\n",
              "      <td>5</td>\n",
              "      <td>Jackie Mason: Hollywood Would Love Trump if He...</td>\n",
              "      <td>Daniel Nussbaum</td>\n",
              "      <td>In these trying times, Jackie Mason is the Voi...</td>\n",
              "      <td>0</td>\n",
              "    </tr>\n",
              "    <tr>\n",
              "      <th>7</th>\n",
              "      <td>7</td>\n",
              "      <td>Benoît Hamon Wins French Socialist Party’s Pre...</td>\n",
              "      <td>Alissa J. Rubin</td>\n",
              "      <td>PARIS  —   France chose an idealistic, traditi...</td>\n",
              "      <td>0</td>\n",
              "    </tr>\n",
              "    <tr>\n",
              "      <th>9</th>\n",
              "      <td>9</td>\n",
              "      <td>A Back-Channel Plan for Ukraine and Russia, Co...</td>\n",
              "      <td>Megan Twohey and Scott Shane</td>\n",
              "      <td>A week before Michael T. Flynn resigned as nat...</td>\n",
              "      <td>0</td>\n",
              "    </tr>\n",
              "    <tr>\n",
              "      <th>10</th>\n",
              "      <td>10</td>\n",
              "      <td>Obama’s Organizing for Action Partners with So...</td>\n",
              "      <td>Aaron Klein</td>\n",
              "      <td>Organizing for Action, the activist group that...</td>\n",
              "      <td>0</td>\n",
              "    </tr>\n",
              "    <tr>\n",
              "      <th>11</th>\n",
              "      <td>11</td>\n",
              "      <td>BBC Comedy Sketch \"Real Housewives of ISIS\" Ca...</td>\n",
              "      <td>Chris Tomlinson</td>\n",
              "      <td>The BBC produced spoof on the “Real Housewives...</td>\n",
              "      <td>0</td>\n",
              "    </tr>\n",
              "  </tbody>\n",
              "</table>\n",
              "</div>"
            ],
            "text/plain": [
              "    id  ... label\n",
              "0    0  ...     1\n",
              "1    1  ...     0\n",
              "2    2  ...     1\n",
              "3    3  ...     1\n",
              "4    4  ...     1\n",
              "5    5  ...     0\n",
              "7    7  ...     0\n",
              "9    9  ...     0\n",
              "10  10  ...     0\n",
              "11  11  ...     0\n",
              "\n",
              "[10 rows x 5 columns]"
            ]
          },
          "metadata": {
            "tags": []
          },
          "execution_count": 16
        }
      ]
    },
    {
      "cell_type": "code",
      "metadata": {
        "id": "K8RegMaXo-Sj",
        "colab_type": "code",
        "colab": {}
      },
      "source": [
        "messages = df.copy()"
      ],
      "execution_count": null,
      "outputs": []
    },
    {
      "cell_type": "code",
      "metadata": {
        "id": "MifzYJnapCIj",
        "colab_type": "code",
        "colab": {}
      },
      "source": [
        "messages.reset_index(inplace = True)"
      ],
      "execution_count": null,
      "outputs": []
    },
    {
      "cell_type": "code",
      "metadata": {
        "id": "gtG8phgEvVVw",
        "colab_type": "code",
        "colab": {}
      },
      "source": [
        "messages.head(10)"
      ],
      "execution_count": null,
      "outputs": []
    },
    {
      "cell_type": "code",
      "metadata": {
        "id": "89g3rLNUvn5Y",
        "colab_type": "code",
        "colab": {
          "base_uri": "https://localhost:8080/",
          "height": 34
        },
        "outputId": "f6adacbc-76aa-44c3-8443-b8add965dd0a"
      },
      "source": [
        "messages.shape"
      ],
      "execution_count": null,
      "outputs": [
        {
          "output_type": "execute_result",
          "data": {
            "text/plain": [
              "(18285, 7)"
            ]
          },
          "metadata": {
            "tags": []
          },
          "execution_count": 23
        }
      ]
    },
    {
      "cell_type": "code",
      "metadata": {
        "id": "3gsvkluypUIU",
        "colab_type": "code",
        "colab": {}
      },
      "source": [
        "from sklearn.feature_extraction.text import CountVectorizer, TfidfVectorizer, HashingVectorizer"
      ],
      "execution_count": null,
      "outputs": []
    },
    {
      "cell_type": "code",
      "metadata": {
        "id": "xXxPLyZjpfin",
        "colab_type": "code",
        "colab": {
          "base_uri": "https://localhost:8080/",
          "height": 51
        },
        "outputId": "702b5579-e02e-4fb9-dd13-8ca1bedd4831"
      },
      "source": [
        "import nltk\n",
        "from nltk.corpus import stopwords\n",
        "from nltk.stem.porter import PorterStemmer\n",
        "nltk.download('stopwords')\n",
        "ps = PorterStemmer()\n",
        "import re\n",
        "corpus = []\n",
        "for i in range(0, len(messages)):\n",
        "    review = re.sub('[^a-zA-Z]', ' ', messages['text'][i])\n",
        "    review = review.lower()\n",
        "    review = review.split()\n",
        "    \n",
        "    review = [ps.stem(word) for word in review if not word in stopwords.words('english')]\n",
        "    review = ' '.join(review)\n",
        "    corpus.append(review)"
      ],
      "execution_count": null,
      "outputs": [
        {
          "output_type": "stream",
          "text": [
            "[nltk_data] Downloading package stopwords to /root/nltk_data...\n",
            "[nltk_data]   Package stopwords is already up-to-date!\n"
          ],
          "name": "stdout"
        }
      ]
    },
    {
      "cell_type": "code",
      "metadata": {
        "id": "yW9yOtz-pzXJ",
        "colab_type": "code",
        "colab": {}
      },
      "source": [
        "## Applying Countvectorizer\n",
        "# Creating the Bag of Words model\n",
        "from sklearn.feature_extraction.text import CountVectorizer\n",
        "cv = CountVectorizer(max_features=5000,ngram_range=(1,3))\n",
        "X = cv.fit_transform(corpus).toarray()"
      ],
      "execution_count": null,
      "outputs": []
    },
    {
      "cell_type": "code",
      "metadata": {
        "id": "n_PRi1HJp2Sv",
        "colab_type": "code",
        "colab": {
          "base_uri": "https://localhost:8080/",
          "height": 34
        },
        "outputId": "a42d74de-b018-4dac-9794-9d5302933bb0"
      },
      "source": [
        "X.shape"
      ],
      "execution_count": null,
      "outputs": [
        {
          "output_type": "execute_result",
          "data": {
            "text/plain": [
              "(18285, 5000)"
            ]
          },
          "metadata": {
            "tags": []
          },
          "execution_count": 32
        }
      ]
    },
    {
      "cell_type": "code",
      "metadata": {
        "id": "AsVZe2K_p4fB",
        "colab_type": "code",
        "colab": {}
      },
      "source": [
        "y=messages['label']"
      ],
      "execution_count": null,
      "outputs": []
    },
    {
      "cell_type": "code",
      "metadata": {
        "id": "hpYH_4NLp87c",
        "colab_type": "code",
        "colab": {}
      },
      "source": [
        "## Divide the dataset into Train and Test\n",
        "from sklearn.model_selection import train_test_split\n",
        "X_train, X_test, y_train, y_test = train_test_split(X, y, test_size=0.33, random_state=0)"
      ],
      "execution_count": null,
      "outputs": []
    },
    {
      "cell_type": "code",
      "metadata": {
        "id": "YATMsQxop-u4",
        "colab_type": "code",
        "colab": {}
      },
      "source": [
        "cv.get_feature_names()[:20]"
      ],
      "execution_count": null,
      "outputs": []
    },
    {
      "cell_type": "code",
      "metadata": {
        "id": "bklJUtoBp-3a",
        "colab_type": "code",
        "colab": {}
      },
      "source": [
        "cv.get_params()"
      ],
      "execution_count": null,
      "outputs": []
    },
    {
      "cell_type": "code",
      "metadata": {
        "id": "VR3j1N1qqITS",
        "colab_type": "code",
        "colab": {}
      },
      "source": [
        "count_df = pd.DataFrame(X_train , columns = cv.get_feature_names())"
      ],
      "execution_count": null,
      "outputs": []
    },
    {
      "cell_type": "code",
      "metadata": {
        "id": "-Hek1VGMqIbC",
        "colab_type": "code",
        "colab": {}
      },
      "source": [
        "count_df.head()"
      ],
      "execution_count": null,
      "outputs": []
    },
    {
      "cell_type": "code",
      "metadata": {
        "id": "a5Gh_hRNqfr7",
        "colab_type": "code",
        "colab": {}
      },
      "source": [
        "def plot_confusion_matrix(cm, classes,\n",
        "                          normalize=False,\n",
        "                          title='Confusion matrix',\n",
        "                          cmap=plt.cm.Blues):\n",
        "    \"\"\"\n",
        "    See full source and example: \n",
        "    http://scikit-learn.org/stable/auto_examples/model_selection/plot_confusion_matrix.html\n",
        "    \n",
        "    This function prints and plots the confusion matrix.\n",
        "    Normalization can be applied by setting `normalize=True`.\n",
        "    \"\"\"\n",
        "    plt.imshow(cm, interpolation='nearest', cmap=cmap)\n",
        "    plt.title(title)\n",
        "    plt.colorbar()\n",
        "    tick_marks = np.arange(len(classes))\n",
        "    plt.xticks(tick_marks, classes, rotation=45)\n",
        "    plt.yticks(tick_marks, classes)\n",
        "\n",
        "    if normalize:\n",
        "        cm = cm.astype('float') / cm.sum(axis=1)[:, np.newaxis]\n",
        "        print(\"Normalized confusion matrix\")\n",
        "    else:\n",
        "        print('Confusion matrix, without normalization')\n",
        "\n",
        "    thresh = cm.max() / 2.\n",
        "    for i, j in itertools.product(range(cm.shape[0]), range(cm.shape[1])):\n",
        "        plt.text(j, i, cm[i, j],\n",
        "                 horizontalalignment=\"center\",\n",
        "                 color=\"white\" if cm[i, j] > thresh else \"black\")\n",
        "\n",
        "    plt.tight_layout()\n",
        "    plt.ylabel('True label')\n",
        "    plt.xlabel('Predicted label')"
      ],
      "execution_count": null,
      "outputs": []
    },
    {
      "cell_type": "markdown",
      "metadata": {
        "id": "jr-qQqlkrNO_",
        "colab_type": "text"
      },
      "source": [
        "##MultinomialNB Algorithm"
      ]
    },
    {
      "cell_type": "code",
      "metadata": {
        "id": "DY8CysFIqf1-",
        "colab_type": "code",
        "colab": {}
      },
      "source": [
        "from sklearn.naive_bayes import MultinomialNB\n",
        "classifier=MultinomialNB()"
      ],
      "execution_count": null,
      "outputs": []
    },
    {
      "cell_type": "code",
      "metadata": {
        "id": "7bv2MxyxrYor",
        "colab_type": "code",
        "colab": {}
      },
      "source": [
        "from sklearn import metrics\n",
        "import numpy as np\n",
        "import itertools"
      ],
      "execution_count": null,
      "outputs": []
    },
    {
      "cell_type": "code",
      "metadata": {
        "id": "4eNBRqSvrbhN",
        "colab_type": "code",
        "colab": {
          "base_uri": "https://localhost:8080/",
          "height": 345
        },
        "outputId": "f756700c-0e5f-4ac9-f986-c79cbc5aca1d"
      },
      "source": [
        "classifier.fit(X_train,y_train)\n",
        "y_pred = classifier.predict(X_test)\n",
        "accuracy = metrics.accuracy_score(y_test,y_pred)\n",
        "print(\"Accuracy:  %0.3f\" % accuracy)\n",
        "cm = metrics.confusion_matrix(y_test,y_pred)\n",
        "plot_confusion_matrix(cm,classes = ['FAKE', 'REAL'])"
      ],
      "execution_count": null,
      "outputs": [
        {
          "output_type": "stream",
          "text": [
            "Accuracy:  0.902\n",
            "Confusion matrix, without normalization\n"
          ],
          "name": "stdout"
        },
        {
          "output_type": "display_data",
          "data": {
            "image/png": "[encoded data removed]",
            "text/plain": [
              "<Figure size 432x288 with 2 Axes>"
            ]
          },
          "metadata": {
            "tags": [],
            "needs_background": "light"
          }
        }
      ]
    },
    {
      "cell_type": "code",
      "metadata": {
        "id": "ze-aiV7MslPw",
        "colab_type": "code",
        "colab": {
          "base_uri": "https://localhost:8080/",
          "height": 34
        },
        "outputId": "88ea5686-a814-4fd2-b2df-2d0ff84a7711"
      },
      "source": [
        "y_train.shape"
      ],
      "execution_count": null,
      "outputs": [
        {
          "output_type": "execute_result",
          "data": {
            "text/plain": [
              "(12250,)"
            ]
          },
          "metadata": {
            "tags": []
          },
          "execution_count": 48
        }
      ]
    },
    {
      "cell_type": "markdown",
      "metadata": {
        "id": "DeZ9F0XIssea",
        "colab_type": "text"
      },
      "source": [
        "##Passive Aggressive Classifier Algorithm"
      ]
    },
    {
      "cell_type": "code",
      "metadata": {
        "id": "RD5boyF-s3SC",
        "colab_type": "code",
        "colab": {}
      },
      "source": [
        "from sklearn.linear_model import PassiveAggressiveClassifier\n",
        "linear_clf = PassiveAggressiveClassifier(n_iter_no_change=50)"
      ],
      "execution_count": null,
      "outputs": []
    },
    {
      "cell_type": "code",
      "metadata": {
        "id": "XtFxhWgws6iV",
        "colab_type": "code",
        "colab": {
          "base_uri": "https://localhost:8080/",
          "height": 345
        },
        "outputId": "01631fe3-47c6-4b32-f525-d9b6af64e021"
      },
      "source": [
        "linear_clf.fit(X_train, y_train)\n",
        "pred = linear_clf.predict(X_test)\n",
        "score = metrics.accuracy_score(y_test, pred)\n",
        "print(\"accuracy:   %0.3f\" % score)\n",
        "cm = metrics.confusion_matrix(y_test, pred)\n",
        "plot_confusion_matrix(cm, classes=['FAKE Data', 'REAL Data'])"
      ],
      "execution_count": null,
      "outputs": [
        {
          "output_type": "stream",
          "text": [
            "accuracy:   0.920\n",
            "Confusion matrix, without normalization\n"
          ],
          "name": "stdout"
        },
        {
          "output_type": "display_data",
          "data": {
            "image/png": "[encoded data removed]",
            "text/plain": [
              "<Figure size 432x288 with 2 Axes>"
            ]
          },
          "metadata": {
            "tags": [],
            "needs_background": "light"
          }
        }
      ]
    },
    {
      "cell_type": "markdown",
      "metadata": {
        "id": "_x101_yltIBe",
        "colab_type": "text"
      },
      "source": [
        "##Multinomial Classifier with hyperpaprameter"
      ]
    },
    {
      "cell_type": "code",
      "metadata": {
        "id": "nmdM7epjtMz8",
        "colab_type": "code",
        "colab": {}
      },
      "source": [
        "classifier=MultinomialNB(alpha=0.1)"
      ],
      "execution_count": null,
      "outputs": []
    },
    {
      "cell_type": "code",
      "metadata": {
        "id": "MrLARAEEtM-f",
        "colab_type": "code",
        "colab": {
          "base_uri": "https://localhost:8080/",
          "height": 241
        },
        "outputId": "f0879e2f-ebbe-494c-e5f4-be7960847889"
      },
      "source": [
        "previous_score=0\n",
        "for alpha in np.arange(0,1,0.1):\n",
        "    sub_classifier=MultinomialNB(alpha=alpha)\n",
        "    sub_classifier.fit(X_train,y_train)\n",
        "    y_pred=sub_classifier.predict(X_test)\n",
        "    score = metrics.accuracy_score(y_test, y_pred)\n",
        "    if score>previous_score:\n",
        "        classifier=sub_classifier\n",
        "    print(\"Alpha: {}, Score : {}\".format(alpha,score))"
      ],
      "execution_count": null,
      "outputs": [
        {
          "output_type": "stream",
          "text": [
            "/usr/local/lib/python3.6/dist-packages/sklearn/naive_bayes.py:507: UserWarning: alpha too small will result in numeric errors, setting alpha = 1.0e-10\n",
            "  'setting alpha = %.1e' % _ALPHA_MIN)\n"
          ],
          "name": "stderr"
        },
        {
          "output_type": "stream",
          "text": [
            "Alpha: 0.0, Score : 0.8903065451532726\n",
            "Alpha: 0.1, Score : 0.9020712510356255\n",
            "Alpha: 0.2, Score : 0.9025683512841757\n",
            "Alpha: 0.30000000000000004, Score : 0.9024026512013256\n",
            "Alpha: 0.4, Score : 0.9017398508699255\n",
            "Alpha: 0.5, Score : 0.9015741507870754\n",
            "Alpha: 0.6000000000000001, Score : 0.9022369511184756\n",
            "Alpha: 0.7000000000000001, Score : 0.9025683512841757\n",
            "Alpha: 0.8, Score : 0.9015741507870754\n",
            "Alpha: 0.9, Score : 0.9017398508699255\n"
          ],
          "name": "stdout"
        }
      ]
    },
    {
      "cell_type": "markdown",
      "metadata": {
        "id": "hxEeZ0ZktXGw",
        "colab_type": "text"
      },
      "source": [
        "##Getting the feature names"
      ]
    },
    {
      "cell_type": "code",
      "metadata": {
        "id": "S_FbHtV7tPUg",
        "colab_type": "code",
        "colab": {}
      },
      "source": [
        "feature_names = cv.get_feature_names()"
      ],
      "execution_count": null,
      "outputs": []
    },
    {
      "cell_type": "code",
      "metadata": {
        "id": "PTzSfOh_tQAD",
        "colab_type": "code",
        "colab": {
          "base_uri": "https://localhost:8080/",
          "height": 51
        },
        "outputId": "67a7fb3f-dc18-41b0-9ad7-3a35424c9e8a"
      },
      "source": [
        "classifier.coef_[0]"
      ],
      "execution_count": null,
      "outputs": [
        {
          "output_type": "execute_result",
          "data": {
            "text/plain": [
              "array([ -9.10038883,  -8.62276128,  -9.10038883, ..., -10.79498456,\n",
              "        -8.91467169,  -9.32864749])"
            ]
          },
          "metadata": {
            "tags": []
          },
          "execution_count": 56
        }
      ]
    },
    {
      "cell_type": "code",
      "metadata": {
        "id": "HHp5wLJ_tQJM",
        "colab_type": "code",
        "colab": {
          "base_uri": "https://localhost:8080/",
          "height": 357
        },
        "outputId": "9a9cbf3f-4b46-42fd-dcae-178e2d83d083"
      },
      "source": [
        "### Most real\n",
        "sorted(zip(classifier.coef_[0], feature_names), reverse=True)[:20]"
      ],
      "execution_count": null,
      "outputs": [
        {
          "output_type": "execute_result",
          "data": {
            "text/plain": [
              "[(-4.000149156604985, 'trump'),\n",
              " (-4.287872694443541, 'hillari'),\n",
              " (-4.396389621061519, 'clinton'),\n",
              " (-4.899969726208735, 'elect'),\n",
              " (-5.176598600897756, 'new'),\n",
              " (-5.234730366348767, 'comment'),\n",
              " (-5.273968180973631, 'video'),\n",
              " (-5.3868167681180115, 'war'),\n",
              " (-5.396821854078974, 'us'),\n",
              " (-5.412019714988405, 'hillari clinton'),\n",
              " (-5.417137433425386, 'fbi'),\n",
              " (-5.48068448454208, 'vote'),\n",
              " (-5.566255475855405, 'email'),\n",
              " (-5.578238842742501, 'world'),\n",
              " (-5.634015380199913, 'obama'),\n",
              " (-5.734501455772904, 'donald'),\n",
              " (-5.763095255139644, 'donald trump'),\n",
              " (-5.785090276725191, 'russia'),\n",
              " (-5.846224665218559, 'day'),\n",
              " (-5.862110622807369, 'america')]"
            ]
          },
          "metadata": {
            "tags": []
          },
          "execution_count": 57
        }
      ]
    },
    {
      "cell_type": "code",
      "metadata": {
        "id": "3tstfoW_tlNk",
        "colab_type": "code",
        "colab": {
          "base_uri": "https://localhost:8080/",
          "height": 1000
        },
        "outputId": "e5ec3e4e-bcc1-4555-8787-34edd0071c4c"
      },
      "source": [
        "### Most fake\n",
        "sorted(zip(classifier.coef_[0], feature_names))[:5000]"
      ],
      "execution_count": null,
      "outputs": [
        {
          "output_type": "execute_result",
          "data": {
            "text/plain": [
              "[(-10.794984555596727, 'abe'),\n",
              " (-10.794984555596727, 'abroad'),\n",
              " (-10.794984555596727, 'abus new'),\n",
              " (-10.794984555596727, 'abus new york'),\n",
              " (-10.794984555596727, 'act new'),\n",
              " (-10.794984555596727, 'act new york'),\n",
              " (-10.794984555596727, 'advic'),\n",
              " (-10.794984555596727, 'advis new'),\n",
              " (-10.794984555596727, 'advis new york'),\n",
              " (-10.794984555596727, 'age new'),\n",
              " (-10.794984555596727, 'age new york'),\n",
              " (-10.794984555596727, 'agenda breitbart'),\n",
              " (-10.794984555596727, 'ail'),\n",
              " (-10.794984555596727, 'aleppo new'),\n",
              " (-10.794984555596727, 'aleppo new york'),\n",
              " (-10.794984555596727, 'ali'),\n",
              " (-10.794984555596727, 'america breitbart'),\n",
              " (-10.794984555596727, 'america new york'),\n",
              " (-10.794984555596727, 'american breitbart'),\n",
              " (-10.794984555596727, 'american new'),\n",
              " (-10.794984555596727, 'american new york'),\n",
              " (-10.794984555596727, 'ami'),\n",
              " (-10.794984555596727, 'ami schumer'),\n",
              " (-10.794984555596727, 'amp'),\n",
              " (-10.794984555596727, 'ann'),\n",
              " (-10.794984555596727, 'ann coulter'),\n",
              " (-10.794984555596727, 'applaud'),\n",
              " (-10.794984555596727, 'arson'),\n",
              " (-10.794984555596727, 'asian'),\n",
              " (-10.794984555596727, 'assail'),\n",
              " (-10.794984555596727, 'athlet'),\n",
              " (-10.794984555596727, 'attack breitbart'),\n",
              " (-10.794984555596727, 'attack new'),\n",
              " (-10.794984555596727, 'attack new york'),\n",
              " (-10.794984555596727, 'attack syria'),\n",
              " (-10.794984555596727, 'attend'),\n",
              " (-10.794984555596727, 'avert'),\n",
              " (-10.794984555596727, 'away new'),\n",
              " (-10.794984555596727, 'away new york'),\n",
              " (-10.794984555596727, 'back new'),\n",
              " (-10.794984555596727, 'back new york'),\n",
              " (-10.794984555596727, 'baltimor'),\n",
              " (-10.794984555596727, 'ban breitbart'),\n",
              " (-10.794984555596727, 'ban new'),\n",
              " (-10.794984555596727, 'ban new york'),\n",
              " (-10.794984555596727, 'bangladesh'),\n",
              " (-10.794984555596727, 'barron trump'),\n",
              " (-10.794984555596727, 'basic'),\n",
              " (-10.794984555596727, 'basketbal'),\n",
              " (-10.794984555596727, 'basketbal player'),\n",
              " (-10.794984555596727, 'baton'),\n",
              " (-10.794984555596727, 'baton roug'),\n",
              " (-10.794984555596727, 'battl new'),\n",
              " (-10.794984555596727, 'battl new york'),\n",
              " (-10.794984555596727, 'bay'),\n",
              " (-10.794984555596727, 'beach new'),\n",
              " (-10.794984555596727, 'beach new york'),\n",
              " (-10.794984555596727, 'begin new'),\n",
              " (-10.794984555596727, 'behead photo'),\n",
              " (-10.794984555596727, 'behind trump'),\n",
              " (-10.794984555596727, 'berkeley breitbart'),\n",
              " (-10.794984555596727, 'betsi'),\n",
              " (-10.794984555596727, 'betsi devo'),\n",
              " (-10.794984555596727, 'bill breitbart'),\n",
              " (-10.794984555596727, 'bill new'),\n",
              " (-10.794984555596727, 'bill new york'),\n",
              " (-10.794984555596727, 'bill reilli'),\n",
              " (-10.794984555596727, 'billi'),\n",
              " (-10.794984555596727, 'blue state'),\n",
              " (-10.794984555596727, 'blue state blue'),\n",
              " (-10.794984555596727, 'bolster'),\n",
              " (-10.794984555596727, 'border patrol'),\n",
              " (-10.794984555596727, 'border patrol agent'),\n",
              " (-10.794984555596727, 'border state'),\n",
              " (-10.794984555596727, 'border wall'),\n",
              " (-10.794984555596727, 'border wall breitbart'),\n",
              " (-10.794984555596727, 'bowl'),\n",
              " (-10.794984555596727, 'box offic'),\n",
              " (-10.794984555596727, 'bradi'),\n",
              " (-10.794984555596727, 'breath'),\n",
              " (-10.794984555596727, 'breitbart news daili'),\n",
              " (-10.794984555596727, 'brief new'),\n",
              " (-10.794984555596727, 'brief new york'),\n",
              " (-10.794984555596727, 'broadway'),\n",
              " (-10.794984555596727, 'bronx'),\n",
              " (-10.794984555596727, 'brooklyn'),\n",
              " (-10.794984555596727, 'brooklyn new'),\n",
              " (-10.794984555596727, 'brooklyn new york'),\n",
              " (-10.794984555596727, 'bureaucrat'),\n",
              " (-10.794984555596727, 'caitlyn'),\n",
              " (-10.794984555596727, 'caitlyn jenner'),\n",
              " (-10.794984555596727, 'cal'),\n",
              " (-10.794984555596727, 'california today'),\n",
              " (-10.794984555596727, 'calm'),\n",
              " (-10.794984555596727, 'campaign breitbart'),\n",
              " (-10.794984555596727, 'campaign new'),\n",
              " (-10.794984555596727, 'campaign new york'),\n",
              " (-10.794984555596727, 'campu breitbart'),\n",
              " (-10.794984555596727, 'cann'),\n",
              " (-10.794984555596727, 'car new'),\n",
              " (-10.794984555596727, 'car new york'),\n",
              " (-10.794984555596727, 'care act'),\n",
              " (-10.794984555596727, 'care act new'),\n",
              " (-10.794984555596727, 'care bill'),\n",
              " (-10.794984555596727, 'care breitbart'),\n",
              " (-10.794984555596727, 'carri fisher'),\n",
              " (-10.794984555596727, 'carson'),\n",
              " (-10.794984555596727, 'case new'),\n",
              " (-10.794984555596727, 'case new york'),\n",
              " (-10.794984555596727, 'castro'),\n",
              " (-10.794984555596727, 'caucu'),\n",
              " (-10.794984555596727, 'ceas'),\n",
              " (-10.794984555596727, 'ceas fire'),\n",
              " (-10.794984555596727, 'chamber'),\n",
              " (-10.794984555596727, 'championship'),\n",
              " (-10.794984555596727, 'championship new'),\n",
              " (-10.794984555596727, 'championship new york'),\n",
              " (-10.794984555596727, 'chang new'),\n",
              " (-10.794984555596727, 'chang new york'),\n",
              " (-10.794984555596727, 'charg new york'),\n",
              " (-10.794984555596727, 'charleston'),\n",
              " (-10.794984555596727, 'charlott'),\n",
              " (-10.794984555596727, 'cher'),\n",
              " (-10.794984555596727, 'chief new'),\n",
              " (-10.794984555596727, 'chief new york'),\n",
              " (-10.794984555596727, 'china new york'),\n",
              " (-10.794984555596727, 'chri christi'),\n",
              " (-10.794984555596727, 'christi'),\n",
              " (-10.794984555596727, 'christoph'),\n",
              " (-10.794984555596727, 'chuck'),\n",
              " (-10.794984555596727, 'chuck todd'),\n",
              " (-10.794984555596727, 'circuit'),\n",
              " (-10.794984555596727, 'citi new'),\n",
              " (-10.794984555596727, 'citi new york'),\n",
              " (-10.794984555596727, 'citizenship'),\n",
              " (-10.794984555596727, 'clinton new york'),\n",
              " (-10.794984555596727, 'clue'),\n",
              " (-10.794984555596727, 'coach'),\n",
              " (-10.794984555596727, 'colleg new'),\n",
              " (-10.794984555596727, 'colleg new york'),\n",
              " (-10.794984555596727, 'collid'),\n",
              " (-10.794984555596727, 'collin'),\n",
              " (-10.794984555596727, 'comedi'),\n",
              " (-10.794984555596727, 'comedi central'),\n",
              " (-10.794984555596727, 'comey fire'),\n",
              " (-10.794984555596727, 'commission'),\n",
              " (-10.794984555596727, 'common core'),\n",
              " (-10.794984555596727, 'common ground'),\n",
              " (-10.794984555596727, 'compet'),\n",
              " (-10.794984555596727, 'complex'),\n",
              " (-10.794984555596727, 'conceal'),\n",
              " (-10.794984555596727, 'confirm hear'),\n",
              " (-10.794984555596727, 'congress breitbart'),\n",
              " (-10.794984555596727, 'congress new york'),\n",
              " (-10.794984555596727, 'control new'),\n",
              " (-10.794984555596727, 'control new york'),\n",
              " (-10.794984555596727, 'convent new'),\n",
              " (-10.794984555596727, 'convent new york'),\n",
              " (-10.794984555596727, 'corner'),\n",
              " (-10.794984555596727, 'coulter'),\n",
              " (-10.794984555596727, 'counsel'),\n",
              " (-10.794984555596727, 'countri breitbart'),\n",
              " (-10.794984555596727, 'cours'),\n",
              " (-10.794984555596727, 'court block'),\n",
              " (-10.794984555596727, 'court new'),\n",
              " (-10.794984555596727, 'court new york'),\n",
              " (-10.794984555596727, 'court rule new'),\n",
              " (-10.794984555596727, 'cpac'),\n",
              " (-10.794984555596727, 'crash new'),\n",
              " (-10.794984555596727, 'crash new york'),\n",
              " (-10.794984555596727, 'crime breitbart'),\n",
              " (-10.794984555596727, 'crisi new'),\n",
              " (-10.794984555596727, 'crisi new york'),\n",
              " (-10.794984555596727, 'critic new'),\n",
              " (-10.794984555596727, 'crown'),\n",
              " (-10.794984555596727, 'cunningham'),\n",
              " (-10.794984555596727, 'curb'),\n",
              " (-10.794984555596727, 'davo'),\n",
              " (-10.794984555596727, 'day breitbart'),\n",
              " (-10.794984555596727, 'day new york'),\n",
              " (-10.794984555596727, 'day parad'),\n",
              " (-10.794984555596727, 'dead new'),\n",
              " (-10.794984555596727, 'dead new york'),\n",
              " (-10.794984555596727, 'deal breitbart'),\n",
              " (-10.794984555596727, 'deal new'),\n",
              " (-10.794984555596727, 'deal new york'),\n",
              " (-10.794984555596727, 'death new'),\n",
              " (-10.794984555596727, 'death new york'),\n",
              " (-10.794984555596727, 'debat new'),\n",
              " (-10.794984555596727, 'debat new york'),\n",
              " (-10.794984555596727, 'debbi reynold'),\n",
              " (-10.794984555596727, 'defi'),\n",
              " (-10.794984555596727, 'defund'),\n",
              " (-10.794984555596727, 'delingpol'),\n",
              " (-10.794984555596727, 'dem rep'),\n",
              " (-10.794984555596727, 'dem sen'),\n",
              " (-10.794984555596727, 'democrat breitbart'),\n",
              " (-10.794984555596727, 'democrat new'),\n",
              " (-10.794984555596727, 'democrat new york'),\n",
              " (-10.794984555596727, 'deport breitbart'),\n",
              " (-10.794984555596727, 'despair'),\n",
              " (-10.794984555596727, 'devo'),\n",
              " (-10.794984555596727, 'dh'),\n",
              " (-10.794984555596727, 'die new'),\n",
              " (-10.794984555596727, 'die new york'),\n",
              " (-10.794984555596727, 'diego'),\n",
              " (-10.794984555596727, 'disappoint'),\n",
              " (-10.794984555596727, 'divorc'),\n",
              " (-10.794984555596727, 'donald trump breitbart'),\n",
              " (-10.794984555596727, 'donald trump campaign'),\n",
              " (-10.794984555596727, 'donald trump inaugur'),\n",
              " (-10.794984555596727, 'dossier'),\n",
              " (-10.794984555596727, 'drama'),\n",
              " (-10.794984555596727, 'drive car'),\n",
              " (-10.794984555596727, 'drug new'),\n",
              " (-10.794984555596727, 'drug new york'),\n",
              " (-10.794984555596727, 'dunham'),\n",
              " (-10.794984555596727, 'dylann'),\n",
              " (-10.794984555596727, 'dylann roof'),\n",
              " (-10.794984555596727, 'eas'),\n",
              " (-10.794984555596727, 'easter'),\n",
              " (-10.794984555596727, 'economi new'),\n",
              " (-10.794984555596727, 'ecuador'),\n",
              " (-10.794984555596727, 'effort new york'),\n",
              " (-10.794984555596727, 'egyptair'),\n",
              " (-10.794984555596727, 'elect breitbart'),\n",
              " (-10.794984555596727, 'elect loss'),\n",
              " (-10.794984555596727, 'elect new york'),\n",
              " (-10.794984555596727, 'els new'),\n",
              " (-10.794984555596727, 'els new york'),\n",
              " (-10.794984555596727, 'embassi jerusalem'),\n",
              " (-10.794984555596727, 'emmi'),\n",
              " (-10.794984555596727, 'end new'),\n",
              " (-10.794984555596727, 'end new york'),\n",
              " (-10.794984555596727, 'england'),\n",
              " (-10.794984555596727, 'england patriot'),\n",
              " (-10.794984555596727, 'epa'),\n",
              " (-10.794984555596727, 'era new'),\n",
              " (-10.794984555596727, 'era new york'),\n",
              " (-10.794984555596727, 'espn'),\n",
              " (-10.794984555596727, 'europ new york'),\n",
              " (-10.794984555596727, 'european union'),\n",
              " (-10.794984555596727, 'even brief'),\n",
              " (-10.794984555596727, 'even brief new'),\n",
              " (-10.794984555596727, 'event breitbart'),\n",
              " (-10.794984555596727, 'execut order breitbart'),\n",
              " (-10.794984555596727, 'expand'),\n",
              " (-10.794984555596727, 'explain new'),\n",
              " (-10.794984555596727, 'explain new york'),\n",
              " (-10.794984555596727, 'extradit'),\n",
              " (-10.794984555596727, 'face new'),\n",
              " (-10.794984555596727, 'faction'),\n",
              " (-10.794984555596727, 'fake news breitbart'),\n",
              " (-10.794984555596727, 'fake news new'),\n",
              " (-10.794984555596727, 'falluja'),\n",
              " (-10.794984555596727, 'familiar'),\n",
              " (-10.794984555596727, 'farewel'),\n",
              " (-10.794984555596727, 'fargo'),\n",
              " (-10.794984555596727, 'fatal shoot'),\n",
              " (-10.794984555596727, 'fear new york'),\n",
              " (-10.794984555596727, 'fear trump'),\n",
              " (-10.794984555596727, 'feinstein'),\n",
              " (-10.794984555596727, 'fidel'),\n",
              " (-10.794984555596727, 'fidel castro'),\n",
              " (-10.794984555596727, 'fieri'),\n",
              " (-10.794984555596727, 'fight new'),\n",
              " (-10.794984555596727, 'fight new york'),\n",
              " (-10.794984555596727, 'fight trump'),\n",
              " (-10.794984555596727, 'filibust'),\n",
              " (-10.794984555596727, 'fillon'),\n",
              " (-10.794984555596727, 'find new york'),\n",
              " (-10.794984555596727, 'fire breitbart'),\n",
              " (-10.794984555596727, 'fire new york'),\n",
              " (-10.794984555596727, 'fisher'),\n",
              " (-10.794984555596727, 'fitton'),\n",
              " (-10.794984555596727, 'flight new'),\n",
              " (-10.794984555596727, 'flight new york'),\n",
              " (-10.794984555596727, 'fmr'),\n",
              " (-10.794984555596727, 'fort'),\n",
              " (-10.794984555596727, 'found new'),\n",
              " (-10.794984555596727, 'found new york'),\n",
              " (-10.794984555596727, 'fran oi'),\n",
              " (-10.794984555596727, 'fran oi fillon'),\n",
              " (-10.794984555596727, 'franc new'),\n",
              " (-10.794984555596727, 'franc new york'),\n",
              " (-10.794984555596727, 'freedom caucu'),\n",
              " (-10.794984555596727, 'french presidenti'),\n",
              " (-10.794984555596727, 'friday even'),\n",
              " (-10.794984555596727, 'friday even brief'),\n",
              " (-10.794984555596727, 'fs'),\n",
              " (-10.794984555596727, 'futur new'),\n",
              " (-10.794984555596727, 'futur new york'),\n",
              " (-10.794984555596727, 'gaffney'),\n",
              " (-10.794984555596727, 'game breitbart'),\n",
              " (-10.794984555596727, 'game new'),\n",
              " (-10.794984555596727, 'game new york'),\n",
              " (-10.794984555596727, 'gawker'),\n",
              " (-10.794984555596727, 'gener new'),\n",
              " (-10.794984555596727, 'gener new york'),\n",
              " (-10.794984555596727, 'georg michael'),\n",
              " (-10.794984555596727, 'get back'),\n",
              " (-10.794984555596727, 'get new'),\n",
              " (-10.794984555596727, 'go new york'),\n",
              " (-10.794984555596727, 'golden globe'),\n",
              " (-10.794984555596727, 'golden state'),\n",
              " (-10.794984555596727, 'golden state warrior'),\n",
              " (-10.794984555596727, 'goodel'),\n",
              " (-10.794984555596727, 'gop rep'),\n",
              " (-10.794984555596727, 'gop sen'),\n",
              " (-10.794984555596727, 'gorka'),\n",
              " (-10.794984555596727, 'gorsuch'),\n",
              " (-10.794984555596727, 'gorsuch breitbart'),\n",
              " (-10.794984555596727, 'gorsuch confirm'),\n",
              " (-10.794984555596727, 'govern new york'),\n",
              " (-10.794984555596727, 'grammi'),\n",
              " (-10.794984555596727, 'gray'),\n",
              " (-10.794984555596727, 'griffin'),\n",
              " (-10.794984555596727, 'grow new'),\n",
              " (-10.794984555596727, 'grow new york'),\n",
              " (-10.794984555596727, 'guant'),\n",
              " (-10.794984555596727, 'guant namo'),\n",
              " (-10.794984555596727, 'gulf'),\n",
              " (-10.794984555596727, 'gymnast'),\n",
              " (-10.794984555596727, 'hack new'),\n",
              " (-10.794984555596727, 'hack new york'),\n",
              " (-10.794984555596727, 'hbo'),\n",
              " (-10.794984555596727, 'health bill'),\n",
              " (-10.794984555596727, 'health care bill'),\n",
              " (-10.794984555596727, 'health insur'),\n",
              " (-10.794984555596727, 'health law'),\n",
              " (-10.794984555596727, 'healthcar bill'),\n",
              " (-10.794984555596727, 'hear new'),\n",
              " (-10.794984555596727, 'hear new york'),\n",
              " (-10.794984555596727, 'heart new'),\n",
              " (-10.794984555596727, 'heart new york'),\n",
              " (-10.794984555596727, 'high school'),\n",
              " (-10.794984555596727, 'histori new'),\n",
              " (-10.794984555596727, 'histori new york'),\n",
              " (-10.794984555596727, 'hockey'),\n",
              " (-10.794984555596727, 'holiday'),\n",
              " (-10.794984555596727, 'home new'),\n",
              " (-10.794984555596727, 'home new york'),\n",
              " (-10.794984555596727, 'hometown'),\n",
              " (-10.794984555596727, 'horribl'),\n",
              " (-10.794984555596727, 'hous breitbart'),\n",
              " (-10.794984555596727, 'hous new york'),\n",
              " (-10.794984555596727, 'hungari'),\n",
              " (-10.794984555596727, 'hurrican matthew'),\n",
              " (-10.794984555596727, 'imam'),\n",
              " (-10.794984555596727, 'immigr order'),\n",
              " (-10.794984555596727, 'inaugur speech'),\n",
              " (-10.794984555596727, 'inquiri new'),\n",
              " (-10.794984555596727, 'inquiri new york'),\n",
              " (-10.794984555596727, 'intend'),\n",
              " (-10.794984555596727, 'interest rate'),\n",
              " (-10.794984555596727, 'investig breitbart'),\n",
              " (-10.794984555596727, 'investig new york'),\n",
              " (-10.794984555596727, 'investig trump'),\n",
              " (-10.794984555596727, 'isi new'),\n",
              " (-10.794984555596727, 'isi new york'),\n",
              " (-10.794984555596727, 'islam state support'),\n",
              " (-10.794984555596727, 'isol'),\n",
              " (-10.794984555596727, 'issu new'),\n",
              " (-10.794984555596727, 'issu new york'),\n",
              " (-10.794984555596727, 'jacki'),\n",
              " (-10.794984555596727, 'jake'),\n",
              " (-10.794984555596727, 'jane'),\n",
              " (-10.794984555596727, 'jare kushner'),\n",
              " (-10.794984555596727, 'jerri'),\n",
              " (-10.794984555596727, 'jerri brown'),\n",
              " (-10.794984555596727, 'jo'),\n",
              " (-10.794984555596727, 'job breitbart'),\n",
              " (-10.794984555596727, 'job new'),\n",
              " (-10.794984555596727, 'job new york'),\n",
              " (-10.794984555596727, 'jong'),\n",
              " (-10.794984555596727, 'jong nam'),\n",
              " (-10.794984555596727, 'jong un'),\n",
              " (-10.794984555596727, 'journey'),\n",
              " (-10.794984555596727, 'jr'),\n",
              " (-10.794984555596727, 'judici'),\n",
              " (-10.794984555596727, 'justin'),\n",
              " (-10.794984555596727, 'kabul'),\n",
              " (-10.794984555596727, 'kathi'),\n",
              " (-10.794984555596727, 'kathi griffin'),\n",
              " (-10.794984555596727, 'kati'),\n",
              " (-10.794984555596727, 'kellogg'),\n",
              " (-10.794984555596727, 'kevin'),\n",
              " (-10.794984555596727, 'kill new'),\n",
              " (-10.794984555596727, 'kill new york'),\n",
              " (-10.794984555596727, 'kim jong'),\n",
              " (-10.794984555596727, 'kim jong nam'),\n",
              " (-10.794984555596727, 'kim jong un'),\n",
              " (-10.794984555596727, 'know know'),\n",
              " (-10.794984555596727, 'know new york'),\n",
              " (-10.794984555596727, 'korea new'),\n",
              " (-10.794984555596727, 'korea new york'),\n",
              " (-10.794984555596727, 'krauthamm'),\n",
              " (-10.794984555596727, 'kushner'),\n",
              " (-10.794984555596727, 'la la'),\n",
              " (-10.794984555596727, 'la la land'),\n",
              " (-10.794984555596727, 'la land'),\n",
              " (-10.794984555596727, 'labour'),\n",
              " (-10.794984555596727, 'lago'),\n",
              " (-10.794984555596727, 'latin'),\n",
              " (-10.794984555596727, 'lauderdal'),\n",
              " (-10.794984555596727, 'law breitbart'),\n",
              " (-10.794984555596727, 'law new'),\n",
              " (-10.794984555596727, 'law new york'),\n",
              " (-10.794984555596727, 'lawyer say'),\n",
              " (-10.794984555596727, 'le pen'),\n",
              " (-10.794984555596727, 'leader new'),\n",
              " (-10.794984555596727, 'leader new york'),\n",
              " (-10.794984555596727, 'leaker'),\n",
              " (-10.794984555596727, 'legitim'),\n",
              " (-10.794984555596727, 'lena'),\n",
              " (-10.794984555596727, 'lena dunham'),\n",
              " (-10.794984555596727, 'levin'),\n",
              " (-10.794984555596727, 'lewi'),\n",
              " (-10.794984555596727, 'life new'),\n",
              " (-10.794984555596727, 'life new york'),\n",
              " (-10.794984555596727, 'linda'),\n",
              " (-10.794984555596727, 'linda sarsour'),\n",
              " (-10.794984555596727, 'line new'),\n",
              " (-10.794984555596727, 'line new york'),\n",
              " (-10.794984555596727, 'listen new'),\n",
              " (-10.794984555596727, 'listen new york'),\n",
              " (-10.794984555596727, 'lite'),\n",
              " (-10.794984555596727, 'live new'),\n",
              " (-10.794984555596727, 'live new york'),\n",
              " (-10.794984555596727, 'lo angel'),\n",
              " (-10.794984555596727, 'locht'),\n",
              " (-10.794984555596727, 'london attack'),\n",
              " (-10.794984555596727, 'long island'),\n",
              " (-10.794984555596727, 'loss new'),\n",
              " (-10.794984555596727, 'loss new york'),\n",
              " (-10.794984555596727, 'louvr'),\n",
              " (-10.794984555596727, 'machin new'),\n",
              " (-10.794984555596727, 'machin new york'),\n",
              " (-10.794984555596727, 'macron'),\n",
              " (-10.794984555596727, 'madonna'),\n",
              " (-10.794984555596727, 'maker'),\n",
              " (-10.794984555596727, 'malaysia'),\n",
              " (-10.794984555596727, 'mall'),\n",
              " (-10.794984555596727, 'man new'),\n",
              " (-10.794984555596727, 'man new york'),\n",
              " (-10.794984555596727, 'manchin'),\n",
              " (-10.794984555596727, 'manuel'),\n",
              " (-10.794984555596727, 'mar'),\n",
              " (-10.794984555596727, 'mar lago'),\n",
              " (-10.794984555596727, 'marcher'),\n",
              " (-10.794984555596727, 'marin le'),\n",
              " (-10.794984555596727, 'marin le pen'),\n",
              " (-10.794984555596727, 'market new'),\n",
              " (-10.794984555596727, 'market new york'),\n",
              " (-10.794984555596727, 'marlow'),\n",
              " (-10.794984555596727, 'match'),\n",
              " (-10.794984555596727, 'maxin'),\n",
              " (-10.794984555596727, 'maxin water'),\n",
              " (-10.794984555596727, 'mcconnel'),\n",
              " (-10.794984555596727, 'media breitbart'),\n",
              " (-10.794984555596727, 'media new'),\n",
              " (-10.794984555596727, 'media new york'),\n",
              " (-10.794984555596727, 'medicaid'),\n",
              " (-10.794984555596727, 'meet new'),\n",
              " (-10.794984555596727, 'memori day'),\n",
              " (-10.794984555596727, 'merger'),\n",
              " (-10.794984555596727, 'meryl'),\n",
              " (-10.794984555596727, 'meryl streep'),\n",
              " (-10.794984555596727, 'mexican border'),\n",
              " (-10.794984555596727, 'mexican cartel'),\n",
              " (-10.794984555596727, 'michael phelp'),\n",
              " (-10.794984555596727, 'militari new'),\n",
              " (-10.794984555596727, 'militari new york'),\n",
              " (-10.794984555596727, 'million new york'),\n",
              " (-10.794984555596727, 'milo breitbart'),\n",
              " (-10.794984555596727, 'milo event'),\n",
              " (-10.794984555596727, 'miss new'),\n",
              " (-10.794984555596727, 'miss new york'),\n",
              " (-10.794984555596727, 'mnuchin'),\n",
              " (-10.794984555596727, 'model new'),\n",
              " (-10.794984555596727, 'model new york'),\n",
              " (-10.794984555596727, 'modi'),\n",
              " (-10.794984555596727, 'monday brief'),\n",
              " (-10.794984555596727, 'monday brief new'),\n",
              " (-10.794984555596727, 'monday even'),\n",
              " (-10.794984555596727, 'monday even brief'),\n",
              " (-10.794984555596727, 'money new'),\n",
              " (-10.794984555596727, 'money new york'),\n",
              " (-10.794984555596727, 'month new'),\n",
              " (-10.794984555596727, 'month new york'),\n",
              " (-10.794984555596727, 'monument'),\n",
              " (-10.794984555596727, 'moonlight'),\n",
              " (-10.794984555596727, 'morn brief'),\n",
              " (-10.794984555596727, 'morn brief new'),\n",
              " (-10.794984555596727, 'muhammad ali'),\n",
              " (-10.794984555596727, 'multipl'),\n",
              " (-10.794984555596727, 'mulvaney'),\n",
              " (-10.794984555596727, 'myanmar'),\n",
              " (-10.794984555596727, 'nam'),\n",
              " (-10.794984555596727, 'name new'),\n",
              " (-10.794984555596727, 'namo'),\n",
              " (-10.794984555596727, 'nanci'),\n",
              " (-10.794984555596727, 'nanci pelosi'),\n",
              " (-10.794984555596727, 'narendra'),\n",
              " (-10.794984555596727, 'narendra modi'),\n",
              " (-10.794984555596727, 'nat'),\n",
              " (-10.794984555596727, 'nation new'),\n",
              " (-10.794984555596727, 'nation new york'),\n",
              " (-10.794984555596727, 'nation secur advis'),\n",
              " (-10.794984555596727, 'navi seal'),\n",
              " (-10.794984555596727, 'near texa'),\n",
              " (-10.794984555596727, 'near texa border'),\n",
              " (-10.794984555596727, 'neil gorsuch'),\n",
              " (-10.794984555596727, 'netflix'),\n",
              " (-10.794984555596727, 'new england'),\n",
              " (-10.794984555596727, 'new england patriot'),\n",
              " (-10.794984555596727, 'new year eve'),\n",
              " (-10.794984555596727, 'new york new'),\n",
              " (-10.794984555596727, 'new york state'),\n",
              " (-10.794984555596727, 'news breitbart'),\n",
              " (-10.794984555596727, 'news cnn'),\n",
              " (-10.794984555596727, 'news daili'),\n",
              " (-10.794984555596727, 'news new'),\n",
              " (-10.794984555596727, 'news new york'),\n",
              " (-10.794984555596727, 'night new'),\n",
              " (-10.794984555596727, 'night new york'),\n",
              " (-10.794984555596727, 'nobel prize'),\n",
              " (-10.794984555596727, 'nomin'),\n",
              " (-10.794984555596727, 'nuclear option'),\n",
              " (-10.794984555596727, 'nune'),\n",
              " (-10.794984555596727, 'obama breitbart'),\n",
              " (-10.794984555596727, 'obama era'),\n",
              " (-10.794984555596727, 'obamacar breitbart'),\n",
              " (-10.794984555596727, 'obamacar lite'),\n",
              " (-10.794984555596727, 'obamacar repeal'),\n",
              " (-10.794984555596727, 'obamacar replac'),\n",
              " (-10.794984555596727, 'odd'),\n",
              " (-10.794984555596727, 'offic new'),\n",
              " (-10.794984555596727, 'offic new york'),\n",
              " (-10.794984555596727, 'offici say'),\n",
              " (-10.794984555596727, 'offici say new'),\n",
              " (-10.794984555596727, 'often'),\n",
              " (-10.794984555596727, 'oi'),\n",
              " (-10.794984555596727, 'oi fillon'),\n",
              " (-10.794984555596727, 'oliv'),\n",
              " (-10.794984555596727, 'olymp new'),\n",
              " (-10.794984555596727, 'olymp new york'),\n",
              " (-10.794984555596727, 'one new'),\n",
              " (-10.794984555596727, 'one new york'),\n",
              " (-10.794984555596727, 'op'),\n",
              " (-10.794984555596727, 'open door'),\n",
              " (-10.794984555596727, 'open new york'),\n",
              " (-10.794984555596727, 'oper new'),\n",
              " (-10.794984555596727, 'oppos trump'),\n",
              " (-10.794984555596727, 'order breitbart'),\n",
              " (-10.794984555596727, 'order new'),\n",
              " (-10.794984555596727, 'order new york'),\n",
              " (-10.794984555596727, 'orlando shoot'),\n",
              " (-10.794984555596727, 'orlean'),\n",
              " (-10.794984555596727, 'orovil'),\n",
              " (-10.794984555596727, 'outcri'),\n",
              " (-10.794984555596727, 'outlet'),\n",
              " (-10.794984555596727, 'overhaul'),\n",
              " (-10.794984555596727, 'pari agreement'),\n",
              " (-10.794984555596727, 'parti new'),\n",
              " (-10.794984555596727, 'parti new york'),\n",
              " (-10.794984555596727, 'passport'),\n",
              " (-10.794984555596727, 'past new'),\n",
              " (-10.794984555596727, 'past new york'),\n",
              " (-10.794984555596727, 'path new york'),\n",
              " (-10.794984555596727, 'patrol agent'),\n",
              " (-10.794984555596727, 'paul ryan obamacar'),\n",
              " (-10.794984555596727, 'pelosi'),\n",
              " (-10.794984555596727, 'penguin'),\n",
              " (-10.794984555596727, 'peopl breitbart'),\n",
              " (-10.794984555596727, 'perez'),\n",
              " (-10.794984555596727, 'persist'),\n",
              " (-10.794984555596727, 'person new york'),\n",
              " (-10.794984555596727, 'phelp'),\n",
              " (-10.794984555596727, 'pioneer'),\n",
              " (-10.794984555596727, 'plan new'),\n",
              " (-10.794984555596727, 'plan new york'),\n",
              " (-10.794984555596727, 'plane crash'),\n",
              " (-10.794984555596727, 'playoff'),\n",
              " (-10.794984555596727, 'poland'),\n",
              " (-10.794984555596727, 'polic new'),\n",
              " (-10.794984555596727, 'polic new york'),\n",
              " (-10.794984555596727, 'polic say'),\n",
              " (-10.794984555596727, 'polic say new'),\n",
              " (-10.794984555596727, 'polic shoot'),\n",
              " (-10.794984555596727, 'polici breitbart'),\n",
              " (-10.794984555596727, 'polici new'),\n",
              " (-10.794984555596727, 'polici new york'),\n",
              " (-10.794984555596727, 'polit new'),\n",
              " (-10.794984555596727, 'polit new york'),\n",
              " (-10.794984555596727, 'politico'),\n",
              " (-10.794984555596727, 'post new'),\n",
              " (-10.794984555596727, 'post new york'),\n",
              " (-10.794984555596727, 'pound'),\n",
              " (-10.794984555596727, 'power new york'),\n",
              " (-10.794984555596727, 'pregnanc'),\n",
              " (-10.794984555596727, 'pregnant'),\n",
              " (-10.794984555596727, 'presid breitbart'),\n",
              " (-10.794984555596727, 'presid new'),\n",
              " (-10.794984555596727, 'presid new york'),\n",
              " (-10.794984555596727, 'presid trump breitbart'),\n",
              " (-10.794984555596727, 'presidenti debat'),\n",
              " (-10.794984555596727, 'press breitbart'),\n",
              " (-10.794984555596727, 'preview'),\n",
              " (-10.794984555596727, 'price new'),\n",
              " (-10.794984555596727, 'price new york'),\n",
              " (-10.794984555596727, 'priebu'),\n",
              " (-10.794984555596727, 'prison new'),\n",
              " (-10.794984555596727, 'prison new york'),\n",
              " (-10.794984555596727, 'problem new'),\n",
              " (-10.794984555596727, 'problem new york'),\n",
              " (-10.794984555596727, 'profession'),\n",
              " (-10.794984555596727, 'prompt'),\n",
              " (-10.794984555596727, 'protest breitbart'),\n",
              " (-10.794984555596727, 'protest new'),\n",
              " (-10.794984555596727, 'proud'),\n",
              " (-10.794984555596727, 'pruitt'),\n",
              " (-10.794984555596727, 'publish'),\n",
              " (-10.794984555596727, 'puerto'),\n",
              " (-10.794984555596727, 'quebec'),\n",
              " (-10.794984555596727, 'race new'),\n",
              " (-10.794984555596727, 'race new york'),\n",
              " (-10.794984555596727, 'rampag'),\n",
              " (-10.794984555596727, 'rand'),\n",
              " (-10.794984555596727, 'rand paul'),\n",
              " (-10.794984555596727, 'rang'),\n",
              " (-10.794984555596727, 'rebuk'),\n",
              " (-10.794984555596727, 'recal'),\n",
              " (-10.794984555596727, 'redston'),\n",
              " (-10.794984555596727, 'regist'),\n",
              " (-10.794984555596727, 'rein'),\n",
              " (-10.794984555596727, 'reinc'),\n",
              " (-10.794984555596727, 'reinc priebu'),\n",
              " (-10.794984555596727, 'reinstat'),\n",
              " (-10.794984555596727, 'repeal breitbart'),\n",
              " (-10.794984555596727, 'repeal obamacar'),\n",
              " (-10.794984555596727, 'repeat'),\n",
              " (-10.794984555596727, 'replac bill'),\n",
              " (-10.794984555596727, 'report ask'),\n",
              " (-10.794984555596727, 'report breitbart'),\n",
              " (-10.794984555596727, 'report obama'),\n",
              " (-10.794984555596727, 'report say'),\n",
              " (-10.794984555596727, 'report say new'),\n",
              " (-10.794984555596727, 'report trump'),\n",
              " (-10.794984555596727, 'republican new'),\n",
              " (-10.794984555596727, 'republican new york'),\n",
              " (-10.794984555596727, 'reshap'),\n",
              " (-10.794984555596727, 'rethink'),\n",
              " (-10.794984555596727, 'rex'),\n",
              " (-10.794984555596727, 'rex tillerson'),\n",
              " (-10.794984555596727, 'rhetor'),\n",
              " (-10.794984555596727, 'rico'),\n",
              " (-10.794984555596727, 'right breitbart'),\n",
              " (-10.794984555596727, 'right new'),\n",
              " (-10.794984555596727, 'right new york'),\n",
              " (-10.794984555596727, 'rio'),\n",
              " (-10.794984555596727, 'rio olymp'),\n",
              " (-10.794984555596727, 'riot breitbart'),\n",
              " (-10.794984555596727, 'rodrigo'),\n",
              " (-10.794984555596727, 'rodrigo dutert'),\n",
              " (-10.794984555596727, 'roger ail'),\n",
              " (-10.794984555596727, 'roug'),\n",
              " (-10.794984555596727, 'rout'),\n",
              " (-10.794984555596727, 'rule breitbart'),\n",
              " (-10.794984555596727, 'rule new'),\n",
              " (-10.794984555596727, 'rule new york'),\n",
              " (-10.794984555596727, 'russia new york'),\n",
              " (-10.794984555596727, 'russia probe'),\n",
              " (-10.794984555596727, 'russian ambassador'),\n",
              " (-10.794984555596727, 'russian hack'),\n",
              " (-10.794984555596727, 'ryan locht'),\n",
              " (-10.794984555596727, 'ryan obamacar'),\n",
              " (-10.794984555596727, 'ryan obamacar lite'),\n",
              " (-10.794984555596727, 'ryancar'),\n",
              " (-10.794984555596727, 'san diego'),\n",
              " (-10.794984555596727, 'sarsour'),\n",
              " (-10.794984555596727, 'saturday'),\n",
              " (-10.794984555596727, 'saturday night'),\n",
              " (-10.794984555596727, 'saturday night live'),\n",
              " (-10.794984555596727, 'say new'),\n",
              " (-10.794984555596727, 'say new york'),\n",
              " (-10.794984555596727, 'scalis'),\n",
              " (-10.794984555596727, 'scandal breitbart'),\n",
              " (-10.794984555596727, 'scandal new'),\n",
              " (-10.794984555596727, 'scandal new york'),\n",
              " (-10.794984555596727, 'school new'),\n",
              " (-10.794984555596727, 'school new york'),\n",
              " (-10.794984555596727, 'schumer'),\n",
              " (-10.794984555596727, 'schwarzenegg'),\n",
              " (-10.794984555596727, 'scott pruitt'),\n",
              " (-10.794984555596727, 'scrambl'),\n",
              " (-10.794984555596727, 'sea new'),\n",
              " (-10.794984555596727, 'sea new york'),\n",
              " (-10.794984555596727, 'sean spicer'),\n",
              " (-10.794984555596727, 'sear'),\n",
              " (-10.794984555596727, 'season new'),\n",
              " (-10.794984555596727, 'season new york'),\n",
              " (-10.794984555596727, 'secretari new'),\n",
              " (-10.794984555596727, 'secretari new york'),\n",
              " (-10.794984555596727, 'secur advis'),\n",
              " (-10.794984555596727, 'secur council'),\n",
              " (-10.794984555596727, 'segment'),\n",
              " (-10.794984555596727, 'self drive car'),\n",
              " (-10.794984555596727, 'senat breitbart'),\n",
              " (-10.794984555596727, 'senat confirm'),\n",
              " (-10.794984555596727, 'settlement new'),\n",
              " (-10.794984555596727, 'settlement new york'),\n",
              " (-10.794984555596727, 'sex offend'),\n",
              " (-10.794984555596727, 'sexual abus'),\n",
              " (-10.794984555596727, 'sharp'),\n",
              " (-10.794984555596727, 'shinzo'),\n",
              " (-10.794984555596727, 'shinzo abe'),\n",
              " (-10.794984555596727, 'shoot new'),\n",
              " (-10.794984555596727, 'shoot new york'),\n",
              " (-10.794984555596727, 'show new'),\n",
              " (-10.794984555596727, 'show new york'),\n",
              " (-10.794984555596727, 'skill'),\n",
              " (-10.794984555596727, 'skip'),\n",
              " (-10.794984555596727, 'smile'),\n",
              " (-10.794984555596727, 'smuggler'),\n",
              " (-10.794984555596727, 'somalia'),\n",
              " (-10.794984555596727, 'son law'),\n",
              " (-10.794984555596727, 'south carolina'),\n",
              " (-10.794984555596727, 'south korean'),\n",
              " (-10.794984555596727, 'spacex'),\n",
              " (-10.794984555596727, 'speaker paul'),\n",
              " (-10.794984555596727, 'speaker paul ryan'),\n",
              " (-10.794984555596727, 'specul'),\n",
              " (-10.794984555596727, 'speech breitbart'),\n",
              " (-10.794984555596727, 'speech new york'),\n",
              " (-10.794984555596727, 'spicer'),\n",
              " (-10.794984555596727, 'sport'),\n",
              " (-10.794984555596727, 'sport new'),\n",
              " (-10.794984555596727, 'sport new york'),\n",
              " (-10.794984555596727, 'spotlight'),\n",
              " (-10.794984555596727, 'stanc'),\n",
              " (-10.794984555596727, 'stanford'),\n",
              " (-10.794984555596727, 'star new'),\n",
              " (-10.794984555596727, 'star new york'),\n",
              " (-10.794984555596727, 'start new'),\n",
              " (-10.794984555596727, 'start new york'),\n",
              " (-10.794984555596727, 'state breitbart'),\n",
              " (-10.794984555596727, 'state new'),\n",
              " (-10.794984555596727, 'state new york'),\n",
              " (-10.794984555596727, 'state support'),\n",
              " (-10.794984555596727, 'state warrior'),\n",
              " (-10.794984555596727, 'stem'),\n",
              " (-10.794984555596727, 'step new'),\n",
              " (-10.794984555596727, 'step new york'),\n",
              " (-10.794984555596727, 'stephen bannon'),\n",
              " (-10.794984555596727, 'stockholm'),\n",
              " (-10.794984555596727, 'stori new'),\n",
              " (-10.794984555596727, 'stori new york'),\n",
              " (-10.794984555596727, 'strand'),\n",
              " (-10.794984555596727, 'streep'),\n",
              " (-10.794984555596727, 'street new york'),\n",
              " (-10.794984555596727, 'streisand'),\n",
              " (-10.794984555596727, 'student new'),\n",
              " (-10.794984555596727, 'student new york'),\n",
              " (-10.794984555596727, 'stumbl'),\n",
              " (-10.794984555596727, 'suburb'),\n",
              " (-10.794984555596727, 'subway'),\n",
              " (-10.794984555596727, 'suddenli'),\n",
              " (-10.794984555596727, 'sunday'),\n",
              " (-10.794984555596727, 'super bowl'),\n",
              " (-10.794984555596727, 'support donald'),\n",
              " (-10.794984555596727, 'support donald trump'),\n",
              " (-10.794984555596727, 'suprem court new'),\n",
              " (-10.794984555596727, 'swift'),\n",
              " (-10.794984555596727, 'swimmer'),\n",
              " (-10.794984555596727, 'syria new york'),\n",
              " (-10.794984555596727, 'syria strike'),\n",
              " (-10.794984555596727, 'taiwan'),\n",
              " (-10.794984555596727, 'takata'),\n",
              " (-10.794984555596727, 'takeaway'),\n",
              " (-10.794984555596727, 'taliban'),\n",
              " (-10.794984555596727, 'talk new'),\n",
              " (-10.794984555596727, 'tap'),\n",
              " (-10.794984555596727, 'tax return'),\n",
              " (-10.794984555596727, 'team new'),\n",
              " (-10.794984555596727, 'team new york'),\n",
              " (-10.794984555596727, 'temporari'),\n",
              " (-10.794984555596727, 'term new'),\n",
              " (-10.794984555596727, 'term new york'),\n",
              " (-10.794984555596727, 'terror breitbart'),\n",
              " (-10.794984555596727, 'terror new'),\n",
              " (-10.794984555596727, 'test new york'),\n",
              " (-10.794984555596727, 'texa border'),\n",
              " (-10.794984555596727, 'theresa'),\n",
              " (-10.794984555596727, 'theresa may'),\n",
              " (-10.794984555596727, 'thing new'),\n",
              " (-10.794984555596727, 'thing new york'),\n",
              " (-10.794984555596727, 'thursday'),\n",
              " (-10.794984555596727, 'thursday even'),\n",
              " (-10.794984555596727, 'thursday even brief'),\n",
              " (-10.794984555596727, 'tie new'),\n",
              " (-10.794984555596727, 'tie new york'),\n",
              " (-10.794984555596727, 'tillerson'),\n",
              " (-10.794984555596727, 'time new'),\n",
              " (-10.794984555596727, 'time new york'),\n",
              " (-10.794984555596727, 'titl new'),\n",
              " (-10.794984555596727, 'titl new york'),\n",
              " (-10.794984555596727, 'todd'),\n",
              " (-10.794984555596727, 'toll'),\n",
              " (-10.794984555596727, 'tom bradi'),\n",
              " (-10.794984555596727, 'tone'),\n",
              " (-10.794984555596727, 'tough'),\n",
              " (-10.794984555596727, 'tourist'),\n",
              " (-10.794984555596727, 'town hall'),\n",
              " (-10.794984555596727, 'town new'),\n",
              " (-10.794984555596727, 'town new york'),\n",
              " (-10.794984555596727, 'trailer breitbart'),\n",
              " (-10.794984555596727, 'tran'),\n",
              " (-10.794984555596727, 'transit team'),\n",
              " (-10.794984555596727, 'travel ban'),\n",
              " (-10.794984555596727, 'travel ban new'),\n",
              " (-10.794984555596727, 'trial new'),\n",
              " (-10.794984555596727, 'trial new york'),\n",
              " (-10.794984555596727, 'trophi'),\n",
              " (-10.794984555596727, 'trove'),\n",
              " (-10.794984555596727, 'trudeau'),\n",
              " (-10.794984555596727, 'trump admin'),\n",
              " (-10.794984555596727, 'trump border'),\n",
              " (-10.794984555596727, 'trump breitbart'),\n",
              " (-10.794984555596727, 'trump budget'),\n",
              " (-10.794984555596727, 'trump celebr'),\n",
              " (-10.794984555596727, 'trump choic'),\n",
              " (-10.794984555596727, 'trump could'),\n",
              " (-10.794984555596727, 'trump execut'),\n",
              " (-10.794984555596727, 'trump execut order'),\n",
              " (-10.794984555596727, 'trump fire'),\n",
              " (-10.794984555596727, 'trump first day'),\n",
              " (-10.794984555596727, 'trump go'),\n",
              " (-10.794984555596727, 'trump immigr'),\n",
              " (-10.794984555596727, 'trump immigr order'),\n",
              " (-10.794984555596727, 'trump keep'),\n",
              " (-10.794984555596727, 'trump may'),\n",
              " (-10.794984555596727, 'trump new york'),\n",
              " (-10.794984555596727, 'trump nomine'),\n",
              " (-10.794984555596727, 'trump order'),\n",
              " (-10.794984555596727, 'trump pick'),\n",
              " (-10.794984555596727, 'trump polici'),\n",
              " (-10.794984555596727, 'trump talk'),\n",
              " (-10.794984555596727, 'trump travel'),\n",
              " (-10.794984555596727, 'trump travel ban'),\n",
              " (-10.794984555596727, 'trump tri'),\n",
              " (-10.794984555596727, 'trump visit'),\n",
              " (-10.794984555596727, 'trump vow'),\n",
              " (-10.794984555596727, 'trump wall'),\n",
              " (-10.794984555596727, 'trump women'),\n",
              " (-10.794984555596727, 'tuesday brief'),\n",
              " (-10.794984555596727, 'tuesday brief new'),\n",
              " (-10.794984555596727, 'tuesday even'),\n",
              " (-10.794984555596727, 'tuesday even brief'),\n",
              " (-10.794984555596727, 'turmoil'),\n",
              " (-10.794984555596727, 'twitter breitbart'),\n",
              " (-10.794984555596727, 'two year'),\n",
              " (-10.794984555596727, 'uc davi'),\n",
              " (-10.794984555596727, 'unlik'),\n",
              " (-10.794984555596727, 'unmask'),\n",
              " (-10.794984555596727, 'upend'),\n",
              " (-10.794984555596727, 'uphold'),\n",
              " (-10.794984555596727, 'us new york'),\n",
              " (-10.794984555596727, 'vacat'),\n",
              " (-10.794984555596727, 'vacat new'),\n",
              " (-10.794984555596727, 'vacat new york'),\n",
              " (-10.794984555596727, 'vanish'),\n",
              " (-10.794984555596727, 'veto'),\n",
              " (-10.794984555596727, 'violenc new'),\n",
              " (-10.794984555596727, 'violenc new york'),\n",
              " (-10.794984555596727, 'virgil'),\n",
              " (-10.794984555596727, 'vogu'),\n",
              " (-10.794984555596727, 'volkswagen'),\n",
              " (-10.794984555596727, 'vote new'),\n",
              " (-10.794984555596727, 'vote new york'),\n",
              " (-10.794984555596727, 'voter id'),\n",
              " (-10.794984555596727, 'wait new'),\n",
              " (-10.794984555596727, 'wall breitbart'),\n",
              " (-10.794984555596727, 'war new'),\n",
              " (-10.794984555596727, 'war new york'),\n",
              " (-10.794984555596727, 'wari'),\n",
              " (-10.794984555596727, 'warn new'),\n",
              " (-10.794984555596727, 'warn new york'),\n",
              " (-10.794984555596727, 'warner'),\n",
              " (-10.794984555596727, 'warrior'),\n",
              " (-10.794984555596727, 'washington new'),\n",
              " (-10.794984555596727, 'washington new york'),\n",
              " (-10.794984555596727, 'water new'),\n",
              " (-10.794984555596727, 'water new york'),\n",
              " (-10.794984555596727, 'way new'),\n",
              " (-10.794984555596727, 'way new york'),\n",
              " (-10.794984555596727, 'wednesday brief'),\n",
              " (-10.794984555596727, 'wednesday brief new'),\n",
              " (-10.794984555596727, 'wednesday even'),\n",
              " (-10.794984555596727, 'wednesday even brief'),\n",
              " (-10.794984555596727, 'week new'),\n",
              " (-10.794984555596727, 'week new york'),\n",
              " (-10.794984555596727, 'weekend brief'),\n",
              " (-10.794984555596727, 'weekend brief new'),\n",
              " (-10.794984555596727, 'weekend new'),\n",
              " (-10.794984555596727, 'weekend new york'),\n",
              " (-10.794984555596727, 'well fargo'),\n",
              " (-10.794984555596727, 'west bank'),\n",
              " (-10.794984555596727, 'westminst'),\n",
              " (-10.794984555596727, 'wh'),\n",
              " (-10.794984555596727, 'white hous breitbart'),\n",
              " (-10.794984555596727, 'white hous new'),\n",
              " (-10.794984555596727, 'white nationalist'),\n",
              " (-10.794984555596727, 'wider'),\n",
              " (-10.794984555596727, 'wield'),\n",
              " (-10.794984555596727, 'wildfir'),\n",
              " (-10.794984555596727, 'wimbledon'),\n",
              " (-10.794984555596727, 'win breitbart'),\n",
              " (-10.794984555596727, 'wiretap claim'),\n",
              " (-10.794984555596727, 'women march'),\n",
              " (-10.794984555596727, 'women new'),\n",
              " (-10.794984555596727, 'women new york'),\n",
              " (-10.794984555596727, 'work new'),\n",
              " (-10.794984555596727, 'work new york'),\n",
              " (-10.794984555596727, 'world new'),\n",
              " (-10.794984555596727, 'world new york'),\n",
              " (-10.794984555596727, 'worri new'),\n",
              " (-10.794984555596727, 'worri new york'),\n",
              " (-10.794984555596727, 'wrestl'),\n",
              " (-10.794984555596727, 'yahoo'),\n",
              " (-10.794984555596727, 'year breitbart'),\n",
              " (-10.794984555596727, 'year eve'),\n",
              " (-10.794984555596727, 'year new york'),\n",
              " (-10.794984555596727, 'york new'),\n",
              " (-10.794984555596727, 'york new york'),\n",
              " (-10.794984555596727, 'york state'),\n",
              " (-10.794984555596727, 'zone new'),\n",
              " (-10.794984555596727, 'zone new york'),\n",
              " (-10.794984555596727, 'zoo'),\n",
              " (-10.047770153766505, 'academi'),\n",
              " (-10.047770153766505, 'accid'),\n",
              " (-10.047770153766505, 'aclu'),\n",
              " (-10.047770153766505, 'acr'),\n",
              " (-10.047770153766505, 'adopt'),\n",
              " (-10.047770153766505, 'ahead trump'),\n",
              " (-10.047770153766505, 'airbnb'),\n",
              " (-10.047770153766505, 'airlin'),\n",
              " (-10.047770153766505, 'album'),\n",
              " (-10.047770153766505, 'alex jone'),\n",
              " (-10.047770153766505, 'allegedli'),\n",
              " (-10.047770153766505, 'allianc'),\n",
              " (-10.047770153766505, 'america new'),\n",
              " (-10.047770153766505, 'anchor'),\n",
              " (-10.047770153766505, 'anger'),\n",
              " (-10.047770153766505, 'anti israel'),\n",
              " (-10.047770153766505, 'anti semit'),\n",
              " (-10.047770153766505, 'anymor'),\n",
              " (-10.047770153766505, 'applic'),\n",
              " (-10.047770153766505, 'approach'),\n",
              " (-10.047770153766505, 'appropri'),\n",
              " (-10.047770153766505, 'around world'),\n",
              " (-10.047770153766505, 'artifici'),\n",
              " (-10.047770153766505, 'asylum seeker'),\n",
              " (-10.047770153766505, 'atlant'),\n",
              " (-10.047770153766505, 'attack polic'),\n",
              " (-10.047770153766505, 'attack trump'),\n",
              " (-10.047770153766505, 'auto'),\n",
              " (-10.047770153766505, 'aviv'),\n",
              " (-10.047770153766505, 'back trump'),\n",
              " (-10.047770153766505, 'baghdad'),\n",
              " (-10.047770153766505, 'band'),\n",
              " (-10.047770153766505, 'barrier'),\n",
              " (-10.047770153766505, 'barron'),\n",
              " (-10.047770153766505, 'beach'),\n",
              " (-10.047770153766505, 'beer'),\n",
              " (-10.047770153766505, 'behead'),\n",
              " (-10.047770153766505, 'beij'),\n",
              " (-10.047770153766505, 'ben'),\n",
              " (-10.047770153766505, 'berlin'),\n",
              " (-10.047770153766505, 'bet'),\n",
              " (-10.047770153766505, 'beyonc'),\n",
              " (-10.047770153766505, 'bill cosbi'),\n",
              " (-10.047770153766505, 'bitter'),\n",
              " (-10.047770153766505, 'blasio'),\n",
              " (-10.047770153766505, 'block trump'),\n",
              " (-10.047770153766505, 'boat'),\n",
              " (-10.047770153766505, 'boe'),\n",
              " (-10.047770153766505, 'boko'),\n",
              " (-10.047770153766505, 'boko haram'),\n",
              " (-10.047770153766505, 'bolton'),\n",
              " (-10.047770153766505, 'bomber'),\n",
              " (-10.047770153766505, 'bori'),\n",
              " (-10.047770153766505, 'boss'),\n",
              " (-10.047770153766505, 'bow'),\n",
              " (-10.047770153766505, 'branch'),\n",
              " (-10.047770153766505, 'breitbart news'),\n",
              " (-10.047770153766505, 'bribe'),\n",
              " (-10.047770153766505, 'brought'),\n",
              " (-10.047770153766505, 'built'),\n",
              " (-10.047770153766505, 'bull'),\n",
              " ...]"
            ]
          },
          "metadata": {
            "tags": []
          },
          "execution_count": 58
        }
      ]
    }
  ]
}